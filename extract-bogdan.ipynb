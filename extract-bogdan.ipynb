{
 "cells": [
  {
   "cell_type": "code",
   "execution_count": 2,
   "metadata": {},
   "outputs": [],
   "source": [
    "import pandas as pd"
   ]
  },
  {
   "cell_type": "code",
   "execution_count": 3,
   "metadata": {},
   "outputs": [
    {
     "name": "stdout",
     "output_type": "stream",
     "text": [
      "\u001b[34mDataset_MT_nou\u001b[m\u001b[m/     Dataset_MT_nou.zip  extract.ipynb       extract_data.py\n"
     ]
    }
   ],
   "source": [
    "ls"
   ]
  },
  {
   "cell_type": "code",
   "execution_count": 8,
   "metadata": {},
   "outputs": [],
   "source": [
    "with open('Dataset_MT_nou/ro_fa/CCMatrix/CCMatrix_fa.txt') as f:\n",
    "    CCMatrix_fa = f.read()\n",
    "with open('Dataset_MT_nou/ro_fa/CCMatrix/CCMatrix_ro.txt') as f:\n",
    "    CCMatrix_ro = f.read()"
   ]
  },
  {
   "cell_type": "code",
   "execution_count": 9,
   "metadata": {},
   "outputs": [],
   "source": [
    "with open('Dataset_MT_nou/ro_fa/GNOME/GNOME_fa.txt') as f:\n",
    "    GNOME_fa = f.read()\n",
    "with open('Dataset_MT_nou/ro_fa/GNOME/GNOME_ro.txt') as f:\n",
    "    GNOME_ro = f.read()"
   ]
  },
  {
   "cell_type": "code",
   "execution_count": 10,
   "metadata": {},
   "outputs": [],
   "source": [
    "with open('Dataset_MT_nou/ro_fa/Tanzil/Tanzil_fa.txt') as f:\n",
    "    Tanzil_fa = f.read()\n",
    "with open('Dataset_MT_nou/ro_fa/Tanzil/Tanzil_ro.txt') as f:\n",
    "    Tanzil_ro = f.read()"
   ]
  },
  {
   "cell_type": "code",
   "execution_count": 13,
   "metadata": {},
   "outputs": [],
   "source": [
    "with open('Dataset_MT_nou/ro_fa/TED2020v1/TED2020_fa.txt') as f:\n",
    "    TED2020_fa = f.read()\n",
    "with open('Dataset_MT_nou/ro_fa/TED2020v1/TED2020_ro.txt') as f:\n",
    "    TED2020_ro = f.read()"
   ]
  },
  {
   "cell_type": "code",
   "execution_count": 28,
   "metadata": {},
   "outputs": [],
   "source": [
    "datasets = [\"CCMatrix\",\"GNOME\",\"Tanzil\", \"TED2020\"]"
   ]
  },
  {
   "cell_type": "code",
   "execution_count": 14,
   "metadata": {},
   "outputs": [],
   "source": [
    "fa_text = [CCMatrix_fa,GNOME_fa,Tanzil_fa, TED2020_fa]\n",
    "ro_text = [CCMatrix_ro,GNOME_ro,Tanzil_ro, TED2020_ro]\n"
   ]
  },
  {
   "cell_type": "code",
   "execution_count": 15,
   "metadata": {},
   "outputs": [],
   "source": [
    "fa_text_split = [fa.split('\\n') for fa in fa_text]"
   ]
  },
  {
   "cell_type": "code",
   "execution_count": 16,
   "metadata": {},
   "outputs": [],
   "source": [
    "ro_text_split = [ro.split('\\n') for ro in ro_text]"
   ]
  },
  {
   "cell_type": "code",
   "execution_count": 29,
   "metadata": {},
   "outputs": [],
   "source": [
    "sources = [[dataset_name]*len(dataset) for dataset_name, dataset in zip(datasets, fa_text_split)]"
   ]
  },
  {
   "cell_type": "code",
   "execution_count": 125,
   "metadata": {},
   "outputs": [
    {
     "data": {
      "text/plain": [
       "[2694931, 41510, 68601, 244809]"
      ]
     },
     "execution_count": 125,
     "metadata": {},
     "output_type": "execute_result"
    }
   ],
   "source": [
    "[len(d) for d in fa_text_split]"
   ]
  },
  {
   "cell_type": "code",
   "execution_count": 32,
   "metadata": {},
   "outputs": [],
   "source": [
    "sources = [i for j in sources for i in j]"
   ]
  },
  {
   "cell_type": "code",
   "execution_count": 42,
   "metadata": {},
   "outputs": [],
   "source": [
    "ro_text_split_flatten = [i for j in ro_text_split for i in j]\n",
    "fa_text_split_flatten = [i for j in fa_text_split for i in j]"
   ]
  },
  {
   "cell_type": "code",
   "execution_count": 43,
   "metadata": {},
   "outputs": [],
   "source": [
    "df = pd.DataFrame(zip(ro_text_split_flatten, fa_text_split_flatten, sources), columns=['ro','fa','source'])"
   ]
  },
  {
   "cell_type": "code",
   "execution_count": 80,
   "metadata": {},
   "outputs": [
    {
     "data": {
      "text/html": [
       "<div>\n",
       "<style scoped>\n",
       "    .dataframe tbody tr th:only-of-type {\n",
       "        vertical-align: middle;\n",
       "    }\n",
       "\n",
       "    .dataframe tbody tr th {\n",
       "        vertical-align: top;\n",
       "    }\n",
       "\n",
       "    .dataframe thead th {\n",
       "        text-align: right;\n",
       "    }\n",
       "</style>\n",
       "<table border=\"1\" class=\"dataframe\">\n",
       "  <thead>\n",
       "    <tr style=\"text-align: right;\">\n",
       "      <th></th>\n",
       "      <th>ro</th>\n",
       "      <th>fa</th>\n",
       "      <th>source</th>\n",
       "    </tr>\n",
       "  </thead>\n",
       "  <tbody>\n",
       "    <tr>\n",
       "      <th>0</th>\n",
       "      <td>Aceasta este viata pe care o doresc! \", Atunci...</td>\n",
       "      <td>این زندگی است که من می خواهم! »سپس گام بعدی سا...</td>\n",
       "      <td>CCMatrix</td>\n",
       "    </tr>\n",
       "    <tr>\n",
       "      <th>1</th>\n",
       "      <td>Irmosul: Pe Dumnezeu Cuvântul cel din Dumnezeu...</td>\n",
       "      <td>اصلاً ابلیس یک-موجود- مکّاری است؛ به خدا قسم!</td>\n",
       "      <td>CCMatrix</td>\n",
       "    </tr>\n",
       "    <tr>\n",
       "      <th>2</th>\n",
       "      <td>Fresno Pacific University - este posibil să se...</td>\n",
       "      <td>Fresno Pacific University - ممکن است در اینجا ...</td>\n",
       "      <td>CCMatrix</td>\n",
       "    </tr>\n",
       "    <tr>\n",
       "      <th>3</th>\n",
       "      <td>De ce vă amestecaţi într-o plăcere care.</td>\n",
       "      <td>۱ ۱ Im(</td>\n",
       "      <td>CCMatrix</td>\n",
       "    </tr>\n",
       "    <tr>\n",
       "      <th>4</th>\n",
       "      <td>De ce vă amestecaţi într-o plăcere care.</td>\n",
       "      <td>شرح حکایت 1 (</td>\n",
       "      <td>CCMatrix</td>\n",
       "    </tr>\n",
       "    <tr>\n",
       "      <th>...</th>\n",
       "      <td>...</td>\n",
       "      <td>...</td>\n",
       "      <td>...</td>\n",
       "    </tr>\n",
       "    <tr>\n",
       "      <th>3049846</th>\n",
       "      <td>Dar întrebarea rămâne: ești pregătit pentru ce...</td>\n",
       "      <td>اما این سوال همچنان باقی است: آیا برای چیزی که...</td>\n",
       "      <td>TED2020</td>\n",
       "    </tr>\n",
       "    <tr>\n",
       "      <th>3049847</th>\n",
       "      <td>Sper că ești, pentru că noi venim oricum.</td>\n",
       "      <td>امیدوارم که باشید، زیرا ما بی‌پروا می‌آییم.</td>\n",
       "      <td>TED2020</td>\n",
       "    </tr>\n",
       "    <tr>\n",
       "      <th>3049848</th>\n",
       "      <td>(Aplauze)</td>\n",
       "      <td>(تشویق)</td>\n",
       "      <td>TED2020</td>\n",
       "    </tr>\n",
       "    <tr>\n",
       "      <th>3049849</th>\n",
       "      <td></td>\n",
       "      <td></td>\n",
       "      <td>TED2020</td>\n",
       "    </tr>\n",
       "    <tr>\n",
       "      <th>3049850</th>\n",
       "      <td></td>\n",
       "      <td></td>\n",
       "      <td>TED2020</td>\n",
       "    </tr>\n",
       "  </tbody>\n",
       "</table>\n",
       "<p>3049851 rows × 3 columns</p>\n",
       "</div>"
      ],
      "text/plain": [
       "                                                        ro  \\\n",
       "0        Aceasta este viata pe care o doresc! \", Atunci...   \n",
       "1        Irmosul: Pe Dumnezeu Cuvântul cel din Dumnezeu...   \n",
       "2        Fresno Pacific University - este posibil să se...   \n",
       "3                 De ce vă amestecaţi într-o plăcere care.   \n",
       "4                 De ce vă amestecaţi într-o plăcere care.   \n",
       "...                                                    ...   \n",
       "3049846  Dar întrebarea rămâne: ești pregătit pentru ce...   \n",
       "3049847         Sper că ești, pentru că noi venim oricum.    \n",
       "3049848                                         (Aplauze)    \n",
       "3049849                                                      \n",
       "3049850                                                      \n",
       "\n",
       "                                                        fa    source  \n",
       "0        این زندگی است که من می خواهم! »سپس گام بعدی سا...  CCMatrix  \n",
       "1            اصلاً ابلیس یک-موجود- مکّاری است؛ به خدا قسم!  CCMatrix  \n",
       "2        Fresno Pacific University - ممکن است در اینجا ...  CCMatrix  \n",
       "3                                                  ۱ ۱ Im(  CCMatrix  \n",
       "4                                            شرح حکایت 1 (  CCMatrix  \n",
       "...                                                    ...       ...  \n",
       "3049846  اما این سوال همچنان باقی است: آیا برای چیزی که...   TED2020  \n",
       "3049847       امیدوارم که باشید، زیرا ما بی‌پروا می‌آییم.    TED2020  \n",
       "3049848                                           (تشویق)    TED2020  \n",
       "3049849                                                      TED2020  \n",
       "3049850                                                      TED2020  \n",
       "\n",
       "[3049851 rows x 3 columns]"
      ]
     },
     "execution_count": 80,
     "metadata": {},
     "output_type": "execute_result"
    }
   ],
   "source": [
    "df"
   ]
  },
  {
   "cell_type": "code",
   "execution_count": 81,
   "metadata": {},
   "outputs": [],
   "source": [
    "clean_df = df[~ ( (df.ro.apply(len)==0) | (df.fa.apply(len)==0) ) ]"
   ]
  },
  {
   "cell_type": "code",
   "execution_count": 82,
   "metadata": {},
   "outputs": [],
   "source": [
    "from sklearn.model_selection import train_test_split"
   ]
  },
  {
   "cell_type": "code",
   "execution_count": 83,
   "metadata": {},
   "outputs": [],
   "source": [
    "train_set, test_set = train_test_split(clean_df, shuffle=True, test_size=100000, random_state=42)"
   ]
  },
  {
   "cell_type": "code",
   "execution_count": 84,
   "metadata": {},
   "outputs": [
    {
     "data": {
      "text/html": [
       "<div>\n",
       "<style scoped>\n",
       "    .dataframe tbody tr th:only-of-type {\n",
       "        vertical-align: middle;\n",
       "    }\n",
       "\n",
       "    .dataframe tbody tr th {\n",
       "        vertical-align: top;\n",
       "    }\n",
       "\n",
       "    .dataframe thead th {\n",
       "        text-align: right;\n",
       "    }\n",
       "</style>\n",
       "<table border=\"1\" class=\"dataframe\">\n",
       "  <thead>\n",
       "    <tr style=\"text-align: right;\">\n",
       "      <th></th>\n",
       "      <th>ro</th>\n",
       "      <th>fa</th>\n",
       "      <th>source</th>\n",
       "    </tr>\n",
       "  </thead>\n",
       "  <tbody>\n",
       "    <tr>\n",
       "      <th>1817551</th>\n",
       "      <td>Un arbitru a murit după ce a acordat un carton...</td>\n",
       "      <td>داور مکزیکی که با دادن یک کارت قرمز کشته شد</td>\n",
       "      <td>CCMatrix</td>\n",
       "    </tr>\n",
       "    <tr>\n",
       "      <th>2613630</th>\n",
       "      <td>Prețuiește și respectă viața!</td>\n",
       "      <td>به زندگی احترام می‌گذارد و برای آن ارزش قائل م...</td>\n",
       "      <td>CCMatrix</td>\n",
       "    </tr>\n",
       "    <tr>\n",
       "      <th>2273386</th>\n",
       "      <td>Rețeaua oferã oportunitãți și</td>\n",
       "      <td>فرصت های شبکه؛ و</td>\n",
       "      <td>CCMatrix</td>\n",
       "    </tr>\n",
       "    <tr>\n",
       "      <th>880249</th>\n",
       "      <td>Te rog sa păstrezi aceste scrisori atat timp c...</td>\n",
       "      <td>از تو می‌خواهم که نامه‌ها را تا هر زمان که لاز...</td>\n",
       "      <td>CCMatrix</td>\n",
       "    </tr>\n",
       "    <tr>\n",
       "      <th>2910475</th>\n",
       "      <td>Ce tip de net doriți?</td>\n",
       "      <td>شما چه جور اینترنتی میخواین؟</td>\n",
       "      <td>TED2020</td>\n",
       "    </tr>\n",
       "    <tr>\n",
       "      <th>...</th>\n",
       "      <td>...</td>\n",
       "      <td>...</td>\n",
       "      <td>...</td>\n",
       "    </tr>\n",
       "    <tr>\n",
       "      <th>1692743</th>\n",
       "      <td>Daca nu raspund va sun eu.</td>\n",
       "      <td>اگر جواب نگرفتم آنجا رو هم تماس میگیرم</td>\n",
       "      <td>CCMatrix</td>\n",
       "    </tr>\n",
       "    <tr>\n",
       "      <th>2356330</th>\n",
       "      <td>c) Consecinţa e sigură sau nesigură?</td>\n",
       "      <td>1.آیا محیط تصمیم گیری مطمئن است یا نامطمئن؟</td>\n",
       "      <td>CCMatrix</td>\n",
       "    </tr>\n",
       "    <tr>\n",
       "      <th>2229084</th>\n",
       "      <td>Mai multe articole despre: Fii tu fata</td>\n",
       "      <td>معرفی کتاب: خودت باش دختر</td>\n",
       "      <td>CCMatrix</td>\n",
       "    </tr>\n",
       "    <tr>\n",
       "      <th>2768309</th>\n",
       "      <td>Amintiţi-vă de harul lui Dumnezeu asupra voast...</td>\n",
       "      <td>(به یاد آورید) هنگامی را که موسی به قوم خود گف...</td>\n",
       "      <td>Tanzil</td>\n",
       "    </tr>\n",
       "    <tr>\n",
       "      <th>2219110</th>\n",
       "      <td>Veți vedea în cele ce urmează niște poze adora...</td>\n",
       "      <td>در ادامه با چند تصویر زیبا از حیوانات آشنا خوا...</td>\n",
       "      <td>CCMatrix</td>\n",
       "    </tr>\n",
       "  </tbody>\n",
       "</table>\n",
       "<p>2947459 rows × 3 columns</p>\n",
       "</div>"
      ],
      "text/plain": [
       "                                                        ro  \\\n",
       "1817551  Un arbitru a murit după ce a acordat un carton...   \n",
       "2613630                      Prețuiește și respectă viața!   \n",
       "2273386                      Rețeaua oferã oportunitãți și   \n",
       "880249   Te rog sa păstrezi aceste scrisori atat timp c...   \n",
       "2910475                             Ce tip de net doriți?    \n",
       "...                                                    ...   \n",
       "1692743                         Daca nu raspund va sun eu.   \n",
       "2356330               c) Consecinţa e sigură sau nesigură?   \n",
       "2229084             Mai multe articole despre: Fii tu fata   \n",
       "2768309  Amintiţi-vă de harul lui Dumnezeu asupra voast...   \n",
       "2219110  Veți vedea în cele ce urmează niște poze adora...   \n",
       "\n",
       "                                                        fa    source  \n",
       "1817551        داور مکزیکی که با دادن یک کارت قرمز کشته شد  CCMatrix  \n",
       "2613630  به زندگی احترام می‌گذارد و برای آن ارزش قائل م...  CCMatrix  \n",
       "2273386                                   فرصت های شبکه؛ و  CCMatrix  \n",
       "880249   از تو می‌خواهم که نامه‌ها را تا هر زمان که لاز...  CCMatrix  \n",
       "2910475                      شما چه جور اینترنتی میخواین؟    TED2020  \n",
       "...                                                    ...       ...  \n",
       "1692743             اگر جواب نگرفتم آنجا رو هم تماس میگیرم  CCMatrix  \n",
       "2356330        1.آیا محیط تصمیم گیری مطمئن است یا نامطمئن؟  CCMatrix  \n",
       "2229084                          معرفی کتاب: خودت باش دختر  CCMatrix  \n",
       "2768309  (به یاد آورید) هنگامی را که موسی به قوم خود گف...    Tanzil  \n",
       "2219110  در ادامه با چند تصویر زیبا از حیوانات آشنا خوا...  CCMatrix  \n",
       "\n",
       "[2947459 rows x 3 columns]"
      ]
     },
     "execution_count": 84,
     "metadata": {},
     "output_type": "execute_result"
    }
   ],
   "source": [
    "train_set"
   ]
  },
  {
   "cell_type": "code",
   "execution_count": 85,
   "metadata": {},
   "outputs": [
    {
     "data": {
      "text/html": [
       "<div>\n",
       "<style scoped>\n",
       "    .dataframe tbody tr th:only-of-type {\n",
       "        vertical-align: middle;\n",
       "    }\n",
       "\n",
       "    .dataframe tbody tr th {\n",
       "        vertical-align: top;\n",
       "    }\n",
       "\n",
       "    .dataframe thead th {\n",
       "        text-align: right;\n",
       "    }\n",
       "</style>\n",
       "<table border=\"1\" class=\"dataframe\">\n",
       "  <thead>\n",
       "    <tr style=\"text-align: right;\">\n",
       "      <th></th>\n",
       "      <th>ro</th>\n",
       "      <th>fa</th>\n",
       "      <th>source</th>\n",
       "    </tr>\n",
       "  </thead>\n",
       "  <tbody>\n",
       "    <tr>\n",
       "      <th>1062790</th>\n",
       "      <td>Link-urile noastre industriale puternice asigu...</td>\n",
       "      <td>لینک های صنعت قوی ما اطمینان حاصل شود که تقریب...</td>\n",
       "      <td>CCMatrix</td>\n",
       "    </tr>\n",
       "    <tr>\n",
       "      <th>1632934</th>\n",
       "      <td>Acestea sunt culorile pentru care puteţi opta ...</td>\n",
       "      <td>در اینجا رنگ هایی که میتواند برای هر گوشی انتخ...</td>\n",
       "      <td>CCMatrix</td>\n",
       "    </tr>\n",
       "    <tr>\n",
       "      <th>1656640</th>\n",
       "      <td>Tu sau Mac, sau Larkin ? - Sigur că am.</td>\n",
       "      <td>اوباما یا مک کین ؟ آن تا به شما.</td>\n",
       "      <td>CCMatrix</td>\n",
       "    </tr>\n",
       "    <tr>\n",
       "      <th>1145690</th>\n",
       "      <td>Are dreptate în tot ce a spus despre acest tur...</td>\n",
       "      <td>او در مورد موضوعات گفتگویش درست می‌گفت.</td>\n",
       "      <td>CCMatrix</td>\n",
       "    </tr>\n",
       "    <tr>\n",
       "      <th>2783385</th>\n",
       "      <td>Moise spuse: “Domnul meu cunoaşte pe cel care ...</td>\n",
       "      <td>موسی گفت: «پروردگارم از حال کسانی که هدایت را ...</td>\n",
       "      <td>Tanzil</td>\n",
       "    </tr>\n",
       "    <tr>\n",
       "      <th>...</th>\n",
       "      <td>...</td>\n",
       "      <td>...</td>\n",
       "      <td>...</td>\n",
       "    </tr>\n",
       "    <tr>\n",
       "      <th>1714824</th>\n",
       "      <td>c) întinderea şi durata unei atare exploatări ...</td>\n",
       "      <td>ج) دامنه و مدت چنین استفاده‌ای محدود به منظوری...</td>\n",
       "      <td>CCMatrix</td>\n",
       "    </tr>\n",
       "    <tr>\n",
       "      <th>2837695</th>\n",
       "      <td>Ei fac asta schimbându-și forma.</td>\n",
       "      <td>آنها این کار را با تغییر در حالتهای خود انجام ...</td>\n",
       "      <td>TED2020</td>\n",
       "    </tr>\n",
       "    <tr>\n",
       "      <th>1469543</th>\n",
       "      <td>Mintea este cea care pune întrebări.</td>\n",
       "      <td>این ذهن شماست که سؤال می‌پرسد.</td>\n",
       "      <td>CCMatrix</td>\n",
       "    </tr>\n",
       "    <tr>\n",
       "      <th>2588368</th>\n",
       "      <td>Interpretarea lor se face respectând valorile ...</td>\n",
       "      <td>این دوربین می‌تواند در فواصل 0.5 ,1 ,2 ,5 , 10...</td>\n",
       "      <td>CCMatrix</td>\n",
       "    </tr>\n",
       "    <tr>\n",
       "      <th>2541008</th>\n",
       "      <td>– data nașterii: 6 noiembrie 1992</td>\n",
       "      <td>تاریخ تولد : 6 نوامبر 1992</td>\n",
       "      <td>CCMatrix</td>\n",
       "    </tr>\n",
       "  </tbody>\n",
       "</table>\n",
       "<p>100000 rows × 3 columns</p>\n",
       "</div>"
      ],
      "text/plain": [
       "                                                        ro  \\\n",
       "1062790  Link-urile noastre industriale puternice asigu...   \n",
       "1632934  Acestea sunt culorile pentru care puteţi opta ...   \n",
       "1656640            Tu sau Mac, sau Larkin ? - Sigur că am.   \n",
       "1145690  Are dreptate în tot ce a spus despre acest tur...   \n",
       "2783385  Moise spuse: “Domnul meu cunoaşte pe cel care ...   \n",
       "...                                                    ...   \n",
       "1714824  c) întinderea şi durata unei atare exploatări ...   \n",
       "2837695                  Ei fac asta schimbându-și forma.    \n",
       "1469543               Mintea este cea care pune întrebări.   \n",
       "2588368  Interpretarea lor se face respectând valorile ...   \n",
       "2541008                  – data nașterii: 6 noiembrie 1992   \n",
       "\n",
       "                                                        fa    source  \n",
       "1062790  لینک های صنعت قوی ما اطمینان حاصل شود که تقریب...  CCMatrix  \n",
       "1632934  در اینجا رنگ هایی که میتواند برای هر گوشی انتخ...  CCMatrix  \n",
       "1656640                   اوباما یا مک کین ؟ آن تا به شما.  CCMatrix  \n",
       "1145690            او در مورد موضوعات گفتگویش درست می‌گفت.  CCMatrix  \n",
       "2783385  موسی گفت: «پروردگارم از حال کسانی که هدایت را ...    Tanzil  \n",
       "...                                                    ...       ...  \n",
       "1714824  ج) دامنه و مدت چنین استفاده‌ای محدود به منظوری...  CCMatrix  \n",
       "2837695  آنها این کار را با تغییر در حالتهای خود انجام ...   TED2020  \n",
       "1469543                     این ذهن شماست که سؤال می‌پرسد.  CCMatrix  \n",
       "2588368  این دوربین می‌تواند در فواصل 0.5 ,1 ,2 ,5 , 10...  CCMatrix  \n",
       "2541008                         تاریخ تولد : 6 نوامبر 1992  CCMatrix  \n",
       "\n",
       "[100000 rows x 3 columns]"
      ]
     },
     "execution_count": 85,
     "metadata": {},
     "output_type": "execute_result"
    }
   ],
   "source": [
    "test_set"
   ]
  },
  {
   "cell_type": "code",
   "execution_count": 114,
   "metadata": {},
   "outputs": [
    {
     "data": {
      "text/plain": [
       "Int64Index([2714298, 2694979, 2735995, 2706901, 2729409, 2735978, 2697397,\n",
       "            2721022, 2730906, 2719311],\n",
       "           dtype='int64')"
      ]
     },
     "execution_count": 114,
     "metadata": {},
     "output_type": "execute_result"
    }
   ],
   "source": [
    "test_set.ro.apply(len).sort_values().index[:10]"
   ]
  },
  {
   "cell_type": "code",
   "execution_count": 118,
   "metadata": {},
   "outputs": [
    {
     "data": {
      "text/plain": [
       "Int64Index([2714298, 2694979, 2735995, 2706901, 2729409, 2735978, 2697397,\n",
       "            2721022, 2730906, 2719311],\n",
       "           dtype='int64')"
      ]
     },
     "execution_count": 118,
     "metadata": {},
     "output_type": "execute_result"
    }
   ],
   "source": [
    "test_set.ro.apply(len).sort_values().index[:10]"
   ]
  },
  {
   "cell_type": "code",
   "execution_count": 109,
   "metadata": {},
   "outputs": [],
   "source": [
    "t = test_set.loc[test_set.ro.apply(len).sort_values().index]"
   ]
  },
  {
   "cell_type": "code",
   "execution_count": 122,
   "metadata": {},
   "outputs": [
    {
     "data": {
      "text/plain": [
       "array([['(în R',\n",
       "        'برای ایجاد و متخصصان با تجربه، چشم انداز شغلی قابل ملاحظه ای بسیار زیاد است و از مقام های ارشد در دولت، قانونی و نهادهای دیپلماتیک، سازمان های غیر دولتی، مشاوران حقوقی در بخش خصوصی و یا به عنوان مشاوران برای شرکت های بزرگ چند ملیتی متفاوت است.',\n",
       "        'CCMatrix'],\n",
       "       ['Urcă.”', 'بیاین بالا.»', 'CCMatrix'],\n",
       "       ['moașă.', 'ماندن جوجه\\u200cها به مدت طولانی در هچر', 'CCMatrix'],\n",
       "       ['mască,', 'ماسک ،', 'CCMatrix'],\n",
       "       ['ceață-', 'خشکسالی-', 'CCMatrix'],\n",
       "       ['Preț m2', 'قیمت M2 جدید', 'CCMatrix'],\n",
       "       ['7 Limbă', '7 زبان', 'CCMatrix'],\n",
       "       ['Arabă ٢', 'عربی ۲ \\u202b', 'CCMatrix'],\n",
       "       ['Ce apă?', 'کدام آب؟', 'CCMatrix'],\n",
       "       ['Hârtie,', 'کاغذ،', 'CCMatrix']], dtype=object)"
      ]
     },
     "execution_count": 122,
     "metadata": {},
     "output_type": "execute_result"
    }
   ],
   "source": [
    "t[t.source=='CCMatrix'][:10].values"
   ]
  },
  {
   "cell_type": "code",
   "execution_count": 69,
   "metadata": {},
   "outputs": [],
   "source": [
    "train_set.to_pickle('test_df.zip')"
   ]
  },
  {
   "cell_type": "code",
   "execution_count": 71,
   "metadata": {},
   "outputs": [
    {
     "ename": "KeyboardInterrupt",
     "evalue": "",
     "output_type": "error",
     "traceback": [
      "\u001b[0;31m---------------------------------------------------------------------------\u001b[0m",
      "\u001b[0;31mKeyboardInterrupt\u001b[0m                         Traceback (most recent call last)",
      "\u001b[0;32m/var/folders/j8/rz_5w9717wqgyy0j5pffsbwc0000gn/T/ipykernel_56268/2766883178.py\u001b[0m in \u001b[0;36m<module>\u001b[0;34m\u001b[0m\n\u001b[0;32m----> 1\u001b[0;31m \u001b[0mtest_set\u001b[0m\u001b[0;34m.\u001b[0m\u001b[0mto_pickle\u001b[0m\u001b[0;34m(\u001b[0m\u001b[0;34m'ro-fa-test-df.zip'\u001b[0m\u001b[0;34m)\u001b[0m\u001b[0;34m\u001b[0m\u001b[0;34m\u001b[0m\u001b[0m\n\u001b[0m",
      "\u001b[0;32m~/.pyenv/versions/3.9.5/envs/torch/lib/python3.9/site-packages/pandas/core/generic.py\u001b[0m in \u001b[0;36mto_pickle\u001b[0;34m(self, path, compression, protocol, storage_options)\u001b[0m\n\u001b[1;32m   2955\u001b[0m         \u001b[0;32mfrom\u001b[0m \u001b[0mpandas\u001b[0m\u001b[0;34m.\u001b[0m\u001b[0mio\u001b[0m\u001b[0;34m.\u001b[0m\u001b[0mpickle\u001b[0m \u001b[0;32mimport\u001b[0m \u001b[0mto_pickle\u001b[0m\u001b[0;34m\u001b[0m\u001b[0;34m\u001b[0m\u001b[0m\n\u001b[1;32m   2956\u001b[0m \u001b[0;34m\u001b[0m\u001b[0m\n\u001b[0;32m-> 2957\u001b[0;31m         to_pickle(\n\u001b[0m\u001b[1;32m   2958\u001b[0m             \u001b[0mself\u001b[0m\u001b[0;34m,\u001b[0m\u001b[0;34m\u001b[0m\u001b[0;34m\u001b[0m\u001b[0m\n\u001b[1;32m   2959\u001b[0m             \u001b[0mpath\u001b[0m\u001b[0;34m,\u001b[0m\u001b[0;34m\u001b[0m\u001b[0;34m\u001b[0m\u001b[0m\n",
      "\u001b[0;32m~/.pyenv/versions/3.9.5/envs/torch/lib/python3.9/site-packages/pandas/io/pickle.py\u001b[0m in \u001b[0;36mto_pickle\u001b[0;34m(obj, filepath_or_buffer, compression, protocol, storage_options)\u001b[0m\n\u001b[1;32m    111\u001b[0m         \u001b[0;32melse\u001b[0m\u001b[0;34m:\u001b[0m\u001b[0;34m\u001b[0m\u001b[0;34m\u001b[0m\u001b[0m\n\u001b[1;32m    112\u001b[0m             \u001b[0;31m# letting pickle write directly to the buffer is more memory-efficient\u001b[0m\u001b[0;34m\u001b[0m\u001b[0;34m\u001b[0m\u001b[0;34m\u001b[0m\u001b[0m\n\u001b[0;32m--> 113\u001b[0;31m             pickle.dump(\n\u001b[0m\u001b[1;32m    114\u001b[0m                 \u001b[0;31m# error: Argument 2 to \"dump\" has incompatible type \"Union[IO[Any],\u001b[0m\u001b[0;34m\u001b[0m\u001b[0;34m\u001b[0m\u001b[0;34m\u001b[0m\u001b[0m\n\u001b[1;32m    115\u001b[0m                 \u001b[0;31m# RawIOBase, BufferedIOBase, TextIOBase, TextIOWrapper, mmap]\"; expected\u001b[0m\u001b[0;34m\u001b[0m\u001b[0;34m\u001b[0m\u001b[0;34m\u001b[0m\u001b[0m\n",
      "\u001b[0;32m~/.pyenv/versions/3.9.5/envs/torch/lib/python3.9/site-packages/pandas/io/common.py\u001b[0m in \u001b[0;36mwrite\u001b[0;34m(self, data)\u001b[0m\n\u001b[1;32m    787\u001b[0m         \u001b[0msuper\u001b[0m\u001b[0;34m(\u001b[0m\u001b[0;34m)\u001b[0m\u001b[0;34m.\u001b[0m\u001b[0m__init__\u001b[0m\u001b[0;34m(\u001b[0m\u001b[0mfile\u001b[0m\u001b[0;34m,\u001b[0m \u001b[0mmode\u001b[0m\u001b[0;34m,\u001b[0m \u001b[0;34m**\u001b[0m\u001b[0mkwargs_zip\u001b[0m\u001b[0;34m)\u001b[0m  \u001b[0;31m# type: ignore[arg-type]\u001b[0m\u001b[0;34m\u001b[0m\u001b[0;34m\u001b[0m\u001b[0m\n\u001b[1;32m    788\u001b[0m \u001b[0;34m\u001b[0m\u001b[0m\n\u001b[0;32m--> 789\u001b[0;31m     \u001b[0;32mdef\u001b[0m \u001b[0mwrite\u001b[0m\u001b[0;34m(\u001b[0m\u001b[0mself\u001b[0m\u001b[0;34m,\u001b[0m \u001b[0mdata\u001b[0m\u001b[0;34m)\u001b[0m\u001b[0;34m:\u001b[0m\u001b[0;34m\u001b[0m\u001b[0;34m\u001b[0m\u001b[0m\n\u001b[0m\u001b[1;32m    790\u001b[0m         \u001b[0;31m# buffer multiple write calls, write on flush\u001b[0m\u001b[0;34m\u001b[0m\u001b[0;34m\u001b[0m\u001b[0;34m\u001b[0m\u001b[0m\n\u001b[1;32m    791\u001b[0m         \u001b[0;32mif\u001b[0m \u001b[0mself\u001b[0m\u001b[0;34m.\u001b[0m\u001b[0mmultiple_write_buffer\u001b[0m \u001b[0;32mis\u001b[0m \u001b[0;32mNone\u001b[0m\u001b[0;34m:\u001b[0m\u001b[0;34m\u001b[0m\u001b[0;34m\u001b[0m\u001b[0m\n",
      "\u001b[0;31mKeyboardInterrupt\u001b[0m: "
     ]
    }
   ],
   "source": [
    "test_set.to_pickle('ro-fa-test-df.zip')"
   ]
  },
  {
   "cell_type": "code",
   "execution_count": 75,
   "metadata": {},
   "outputs": [
    {
     "data": {
      "text/plain": [
       "CCMatrix    88386\n",
       "TED2020      8018\n",
       "Tanzil       2264\n",
       "GNOME        1332\n",
       "Name: source, dtype: int64"
      ]
     },
     "execution_count": 75,
     "metadata": {},
     "output_type": "execute_result"
    }
   ],
   "source": [
    "test_set.source.value_counts()"
   ]
  }
 ],
 "metadata": {
  "interpreter": {
   "hash": "d54b02883dc84e12d553b7286154d349ed4f9f2e99891e5730b7fe192c5c2a90"
  },
  "kernelspec": {
   "display_name": "Python 3.9.5 64-bit ('torch': pyenv)",
   "language": "python",
   "name": "python3"
  },
  "language_info": {
   "codemirror_mode": {
    "name": "ipython",
    "version": 3
   },
   "file_extension": ".py",
   "mimetype": "text/x-python",
   "name": "python",
   "nbconvert_exporter": "python",
   "pygments_lexer": "ipython3",
   "version": "3.9.5"
  },
  "orig_nbformat": 4
 },
 "nbformat": 4,
 "nbformat_minor": 2
}
