{
 "cells": [
  {
   "cell_type": "markdown",
   "id": "5e643149",
   "metadata": {},
   "source": [
    "# Creating a dataset based on a movie"
   ]
  },
  {
   "cell_type": "code",
   "execution_count": 1,
   "id": "13a662a7",
   "metadata": {},
   "outputs": [],
   "source": [
    "import pandas as pd\n",
    "import re"
   ]
  },
  {
   "cell_type": "markdown",
   "id": "5f8b21cf",
   "metadata": {},
   "source": [
    "The time stamp and sentences were extracted differently using regex. The two dataframes containing the time stamp and the lines were unified, thus converting the subtitles format to csv. This procedure was done for the subtitles in each language."
   ]
  },
  {
   "cell_type": "code",
   "execution_count": 2,
   "id": "b3338f6c",
   "metadata": {},
   "outputs": [],
   "source": [
    "df_t = pd.DataFrame(columns=['time_stamp'])\n",
    "df_s = pd.DataFrame(columns=['sent'])"
   ]
  },
  {
   "cell_type": "code",
   "execution_count": 3,
   "id": "0654d5db",
   "metadata": {},
   "outputs": [],
   "source": [
    "f = open(\"-------_ro.txt\", \"r\", encoding=\"utf8\")\n",
    "\n",
    "for line in f:\n",
    "    \n",
    "    integer = re.compile(\"^\\d+$\")    # the integers were ignored (line id) as it's not the same for each movie\n",
    "    if integer.match(line):\n",
    "        pass\n",
    "    \n",
    "    time = re.compile(\"^(\\d\\d):(\\d\\d):(\\d\\d),(\\d\\d\\d) --> (\\d\\d):(\\d\\d):(\\d\\d),(\\d\\d\\d)$\")   \n",
    "    if time.match(line):             # the time stamp is the feature that helps us match the lines\n",
    "        time_stamp = line[0:8]\n",
    "        df_t.loc[len(df_t.index)] = pd.Series({'time_stamp':time_stamp})\n",
    "        \n",
    "    empty = re.compile(\"^$\")         # empty lines were ignored\n",
    "    if empty.match(line):\n",
    "        pass\n",
    "               \n",
    "        \n",
    "\n",
    "f.close()"
   ]
  },
  {
   "cell_type": "code",
   "execution_count": 4,
   "id": "6570302c",
   "metadata": {},
   "outputs": [],
   "source": [
    "f = open(\"------_ro.txt\", \"r\", encoding=\"utf8\")\n",
    "\n",
    "b = False\n",
    "for line in f:\n",
    "    \n",
    "    integer = re.compile(\"^\\d+$\")               # the entries containing something other than sentences were ignored\n",
    "    if integer.match(line):\n",
    "        b = False\n",
    "    \n",
    "    time = re.compile(\"^(\\d\\d):(\\d\\d):(\\d\\d),(\\d\\d\\d) --> (\\d\\d):(\\d\\d):(\\d\\d),(\\d\\d\\d)$\")\n",
    "    if time.match(line):\n",
    "        b = False\n",
    "        \n",
    "    empty = re.compile(\"^$\")\n",
    "    if empty.match(line):\n",
    "        b = False\n",
    "                                           \n",
    "    time_ = re.compile(\"^(\\d\\d):(\\d\\d):(\\d\\d),(\\d\\d\\d) --> (\\d\\d):(\\d\\d):(\\d\\d),(\\d\\d\\d)$\")\n",
    "    integer_ = re.compile(\"^\\d+$\")\n",
    "    empty_ = re.compile(\"^$\")\n",
    "    if integer_.match(line) or time_.match(line) or empty_.match(line):\n",
    "        b = False\n",
    "    \n",
    "    else:\n",
    "                             # the sentences were extracted considering the fact that some of them are on more than one row\n",
    "        if b == True:\n",
    "            \n",
    "            #sent = str(df_s.loc[len(df_s.index)-1].values) + str(' ') + line\n",
    "            df_s.loc[len(df_s.index)-1] = df_s.loc[len(df_s.index)-1].astype('str') + pd.Series({'sent':line})\n",
    "              \n",
    "        if b == False:\n",
    "            sent = line\n",
    "            df_s.loc[len(df_s.index)] = pd.Series({'sent':sent})\n",
    "            b = True\n",
    "                \n",
    "f.close()"
   ]
  },
  {
   "cell_type": "code",
   "execution_count": 5,
   "id": "d3f67298",
   "metadata": {},
   "outputs": [],
   "source": [
    "data = [df_t[\"time_stamp\"], df_s[\"sent\"]]     #created a data frame for romanian\n",
    "\n",
    "headers = [\"time_stamp\", \"sent_ro\"]\n",
    "\n",
    "df_ro = pd.concat(data, axis=1, keys=headers)"
   ]
  },
  {
   "cell_type": "code",
   "execution_count": 6,
   "id": "52103219",
   "metadata": {},
   "outputs": [],
   "source": [
    "df_ro.to_csv('--------_ro.csv', index=False) "
   ]
  },
  {
   "cell_type": "markdown",
   "id": "93718629",
   "metadata": {},
   "source": [
    "The exact same code was used to create the farsi data frame."
   ]
  },
  {
   "cell_type": "code",
   "execution_count": 7,
   "id": "8b3e5fb8",
   "metadata": {},
   "outputs": [],
   "source": [
    "df_fa = pd.read_csv(\"------_fa.csv\")"
   ]
  },
  {
   "cell_type": "markdown",
   "id": "cd658acf",
   "metadata": {},
   "source": [
    "Here the two dataframes are merged using inner join based on the time stamp."
   ]
  },
  {
   "cell_type": "code",
   "execution_count": 8,
   "id": "f051f2c2",
   "metadata": {},
   "outputs": [],
   "source": [
    "df = pd.merge(df_ro,df_fa,on='time_stamp')"
   ]
  },
  {
   "cell_type": "code",
   "execution_count": 9,
   "id": "4429cc5d",
   "metadata": {},
   "outputs": [
    {
     "data": {
      "text/html": [
       "<div>\n",
       "<style scoped>\n",
       "    .dataframe tbody tr th:only-of-type {\n",
       "        vertical-align: middle;\n",
       "    }\n",
       "\n",
       "    .dataframe tbody tr th {\n",
       "        vertical-align: top;\n",
       "    }\n",
       "\n",
       "    .dataframe thead th {\n",
       "        text-align: right;\n",
       "    }\n",
       "</style>\n",
       "<table border=\"1\" class=\"dataframe\">\n",
       "  <thead>\n",
       "    <tr style=\"text-align: right;\">\n",
       "      <th></th>\n",
       "      <th>time_stamp</th>\n",
       "      <th>sent_ro</th>\n",
       "      <th>sent</th>\n",
       "    </tr>\n",
       "  </thead>\n",
       "  <tbody>\n",
       "    <tr>\n",
       "      <th>0</th>\n",
       "      <td>00:00:32</td>\n",
       "      <td>Şi Columbus s-a rătăcit... şi nu a fost\\nprimu...</td>\n",
       "      <td>&lt;i&gt;خب، اگر حتي كلمبوس گم شده بود\\nو اولين كاشف...</td>\n",
       "    </tr>\n",
       "    <tr>\n",
       "      <th>1</th>\n",
       "      <td>00:00:35</td>\n",
       "      <td>Oricum... El este eroul meu.\\n</td>\n",
       "      <td>هنوز قهرمان من بود\\n</td>\n",
       "    </tr>\n",
       "    <tr>\n",
       "      <th>2</th>\n",
       "      <td>00:00:37</td>\n",
       "      <td>Curajos... şi-a ţinut mica corabie\\npână la ca...</td>\n",
       "      <td>او واقعا شجاعانه كشتي كوچكش را\\nاز اقيانوسي وا...</td>\n",
       "    </tr>\n",
       "    <tr>\n",
       "      <th>3</th>\n",
       "      <td>00:00:42</td>\n",
       "      <td>şi acum de ziua lui Columbus\\nnu mergem la şco...</td>\n",
       "      <td>و بخاطر او ما روز كلمبوس را\\nدر تمامي مدارس تع...</td>\n",
       "    </tr>\n",
       "    <tr>\n",
       "      <th>4</th>\n",
       "      <td>00:00:48</td>\n",
       "      <td>Mulţumesc, Heather. Ronnie?\\n</td>\n",
       "      <td>ممنون هدر\\nروني؟\\n</td>\n",
       "    </tr>\n",
       "    <tr>\n",
       "      <th>...</th>\n",
       "      <td>...</td>\n",
       "      <td>...</td>\n",
       "      <td>...</td>\n",
       "    </tr>\n",
       "    <tr>\n",
       "      <th>723</th>\n",
       "      <td>01:27:29</td>\n",
       "      <td>Dar când aud povestea despre el şi Hati\\nsimt ...</td>\n",
       "      <td>اما وقتي داستان اون و هاچي رو شنيدم\\nحس كردم ك...</td>\n",
       "    </tr>\n",
       "    <tr>\n",
       "      <th>724</th>\n",
       "      <td>01:27:35</td>\n",
       "      <td>Mi-a zis să nu uit niciodată cât de\\nimportant...</td>\n",
       "      <td>&lt;i&gt;اونها مفهوم وفاداري رو به من ياد دادند&lt;/i&gt;\\n</td>\n",
       "    </tr>\n",
       "    <tr>\n",
       "      <th>725</th>\n",
       "      <td>01:27:43</td>\n",
       "      <td>Deci Hati e eroul meu pentru totdeauna.\\n</td>\n",
       "      <td>براي همينه كه هاچي براي\\nهميشه قهرمان من خواهد...</td>\n",
       "    </tr>\n",
       "    <tr>\n",
       "      <th>726</th>\n",
       "      <td>01:28:01</td>\n",
       "      <td>Uite cât de bucuros e să te vadă.\\n</td>\n",
       "      <td>اوه، اون خوشحاله چند نفر رو ميبينه\\n</td>\n",
       "    </tr>\n",
       "    <tr>\n",
       "      <th>727</th>\n",
       "      <td>01:28:47</td>\n",
       "      <td>Astăzi.. statuia din bronz a lui Hakito..\\naşt...</td>\n",
       "      <td>امروز مجسمه برنزي هاچيكو در بيرون ايستگاه شيبو...</td>\n",
       "    </tr>\n",
       "  </tbody>\n",
       "</table>\n",
       "<p>728 rows × 3 columns</p>\n",
       "</div>"
      ],
      "text/plain": [
       "    time_stamp                                            sent_ro  \\\n",
       "0     00:00:32  Şi Columbus s-a rătăcit... şi nu a fost\\nprimu...   \n",
       "1     00:00:35                     Oricum... El este eroul meu.\\n   \n",
       "2     00:00:37  Curajos... şi-a ţinut mica corabie\\npână la ca...   \n",
       "3     00:00:42  şi acum de ziua lui Columbus\\nnu mergem la şco...   \n",
       "4     00:00:48                      Mulţumesc, Heather. Ronnie?\\n   \n",
       "..         ...                                                ...   \n",
       "723   01:27:29  Dar când aud povestea despre el şi Hati\\nsimt ...   \n",
       "724   01:27:35  Mi-a zis să nu uit niciodată cât de\\nimportant...   \n",
       "725   01:27:43          Deci Hati e eroul meu pentru totdeauna.\\n   \n",
       "726   01:28:01                Uite cât de bucuros e să te vadă.\\n   \n",
       "727   01:28:47  Astăzi.. statuia din bronz a lui Hakito..\\naşt...   \n",
       "\n",
       "                                                  sent  \n",
       "0    <i>خب، اگر حتي كلمبوس گم شده بود\\nو اولين كاشف...  \n",
       "1                                 هنوز قهرمان من بود\\n  \n",
       "2    او واقعا شجاعانه كشتي كوچكش را\\nاز اقيانوسي وا...  \n",
       "3    و بخاطر او ما روز كلمبوس را\\nدر تمامي مدارس تع...  \n",
       "4                                   ممنون هدر\\nروني؟\\n  \n",
       "..                                                 ...  \n",
       "723  اما وقتي داستان اون و هاچي رو شنيدم\\nحس كردم ك...  \n",
       "724    <i>اونها مفهوم وفاداري رو به من ياد دادند</i>\\n  \n",
       "725  براي همينه كه هاچي براي\\nهميشه قهرمان من خواهد...  \n",
       "726               اوه، اون خوشحاله چند نفر رو ميبينه\\n  \n",
       "727  امروز مجسمه برنزي هاچيكو در بيرون ايستگاه شيبو...  \n",
       "\n",
       "[728 rows x 3 columns]"
      ]
     },
     "execution_count": 9,
     "metadata": {},
     "output_type": "execute_result"
    }
   ],
   "source": [
    "df"
   ]
  },
  {
   "cell_type": "code",
   "execution_count": 13,
   "id": "ddb93fd6",
   "metadata": {},
   "outputs": [],
   "source": [
    "df.to_csv('--------_fa_ro.csv', index=False)"
   ]
  },
  {
   "cell_type": "code",
   "execution_count": 12,
   "id": "adc63a19",
   "metadata": {},
   "outputs": [
    {
     "data": {
      "text/plain": [
       "array(['00:00:42', 'şi acum de ziua lui Columbus\\nnu mergem la şcoală.\\n',\n",
       "       'و بخاطر او ما روز كلمبوس را\\nدر تمامي مدارس تعطيل اعلام ميكنيم\\n'],\n",
       "      dtype=object)"
      ]
     },
     "execution_count": 12,
     "metadata": {},
     "output_type": "execute_result"
    }
   ],
   "source": [
    "df.loc[5].values"
   ]
  },
  {
   "cell_type": "code",
   "execution_count": null,
   "id": "ae63b099",
   "metadata": {},
   "outputs": [],
   "source": []
  }
 ],
 "metadata": {
  "kernelspec": {
   "display_name": "Python 3",
   "language": "python",
   "name": "python3"
  },
  "language_info": {
   "codemirror_mode": {
    "name": "ipython",
    "version": 3
   },
   "file_extension": ".py",
   "mimetype": "text/x-python",
   "name": "python",
   "nbconvert_exporter": "python",
   "pygments_lexer": "ipython3",
   "version": "3.8.8"
  }
 },
 "nbformat": 4,
 "nbformat_minor": 5
}
