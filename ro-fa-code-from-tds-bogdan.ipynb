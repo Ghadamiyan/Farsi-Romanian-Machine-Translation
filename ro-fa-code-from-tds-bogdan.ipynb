{
 "cells": [
  {
   "cell_type": "code",
   "execution_count": null,
   "metadata": {
    "execution": {
     "iopub.execute_input": "2022-01-16T00:55:09.582926Z",
     "iopub.status.busy": "2022-01-16T00:55:09.582684Z",
     "iopub.status.idle": "2022-01-16T00:55:09.586652Z",
     "shell.execute_reply": "2022-01-16T00:55:09.585717Z",
     "shell.execute_reply.started": "2022-01-16T00:55:09.582894Z"
    },
    "id": "tmYJBBbwyiX3"
   },
   "outputs": [],
   "source": [
    "import os\n",
    "os.environ[\"WANDB_DISABLED\"]=\"true\""
   ]
  },
  {
   "cell_type": "code",
   "execution_count": null,
   "metadata": {
    "execution": {
     "iopub.execute_input": "2022-01-16T00:55:09.588501Z",
     "iopub.status.busy": "2022-01-16T00:55:09.587675Z",
     "iopub.status.idle": "2022-01-16T00:55:19.682782Z",
     "shell.execute_reply": "2022-01-16T00:55:19.681977Z",
     "shell.execute_reply.started": "2022-01-16T00:55:09.588468Z"
    },
    "id": "SqADZ2Sgx5Ua",
    "outputId": "16d10e79-af3f-4a82-d9e6-9843292775aa"
   },
   "outputs": [],
   "source": [
    "! pip install datasets transformers sacrebleu torch sentencepiece transformers[sentencepiece]"
   ]
  },
  {
   "cell_type": "code",
   "execution_count": null,
   "metadata": {
    "execution": {
     "iopub.execute_input": "2022-01-16T00:55:19.685843Z",
     "iopub.status.busy": "2022-01-16T00:55:19.685544Z",
     "iopub.status.idle": "2022-01-16T00:55:21.302068Z",
     "shell.execute_reply": "2022-01-16T00:55:21.301292Z",
     "shell.execute_reply.started": "2022-01-16T00:55:19.685807Z"
    },
    "id": "5xKFwtNEx5Uc",
    "outputId": "4a9ced50-0274-4031-9978-b91bfbc7d0a0"
   },
   "outputs": [],
   "source": [
    "import transformers\n",
    "print(transformers.__version__)"
   ]
  },
  {
   "cell_type": "code",
   "execution_count": null,
   "metadata": {
    "execution": {
     "iopub.execute_input": "2022-01-16T00:55:21.303669Z",
     "iopub.status.busy": "2022-01-16T00:55:21.303402Z",
     "iopub.status.idle": "2022-01-16T00:55:21.307095Z",
     "shell.execute_reply": "2022-01-16T00:55:21.30641Z",
     "shell.execute_reply.started": "2022-01-16T00:55:21.303634Z"
    },
    "id": "MX7DsEmOx5Ud"
   },
   "outputs": [],
   "source": [
    "model_checkpoint = \"Helsinki-NLP/opus-mt-mul-en\""
   ]
  },
  {
   "cell_type": "code",
   "execution_count": null,
   "metadata": {
    "execution": {
     "iopub.execute_input": "2022-01-16T00:55:21.308745Z",
     "iopub.status.busy": "2022-01-16T00:55:21.308324Z",
     "iopub.status.idle": "2022-01-16T00:55:22.7732Z",
     "shell.execute_reply": "2022-01-16T00:55:22.77247Z",
     "shell.execute_reply.started": "2022-01-16T00:55:21.308704Z"
    },
    "id": "biPo8vFTx5Ue",
    "outputId": "2b9ffb11-dca6-4dc7-ecf5-9d6856a9281b"
   },
   "outputs": [],
   "source": [
    "from datasets import load_dataset, load_metric\n",
    "metric = load_metric(\"sacrebleu\")"
   ]
  },
  {
   "cell_type": "code",
   "execution_count": null,
   "metadata": {
    "execution": {
     "iopub.execute_input": "2022-01-16T00:55:22.775776Z",
     "iopub.status.busy": "2022-01-16T00:55:22.775258Z",
     "iopub.status.idle": "2022-01-16T00:55:36.626067Z",
     "shell.execute_reply": "2022-01-16T00:55:36.625351Z",
     "shell.execute_reply.started": "2022-01-16T00:55:22.775737Z"
    },
    "id": "agDlgrOix5Uj",
    "outputId": "ff092d00-3d4d-4a6f-bca5-f33a49a64c7d"
   },
   "outputs": [],
   "source": [
    "from transformers import AutoTokenizer\n",
    "\n",
    "tokenizer = AutoTokenizer.from_pretrained(model_checkpoint)"
   ]
  },
  {
   "cell_type": "code",
   "execution_count": null,
   "metadata": {
    "execution": {
     "iopub.execute_input": "2022-01-16T00:55:36.628803Z",
     "iopub.status.busy": "2022-01-16T00:55:36.628549Z",
     "iopub.status.idle": "2022-01-16T00:55:36.634786Z",
     "shell.execute_reply": "2022-01-16T00:55:36.633314Z",
     "shell.execute_reply.started": "2022-01-16T00:55:36.62877Z"
    },
    "id": "qvYg6BXJx5Ul",
    "outputId": "20923805-e42b-4099-a2c8-d645393029d4"
   },
   "outputs": [],
   "source": [
    "with tokenizer.as_target_tokenizer():\n",
    "    print(tokenizer([\"Hello, this one sentence!\", \"This is another sentence.\"]))"
   ]
  },
  {
   "cell_type": "code",
   "execution_count": 1,
   "metadata": {
    "execution": {
     "iopub.execute_input": "2022-01-17T20:53:41.448626Z",
     "iopub.status.busy": "2022-01-17T20:53:41.448235Z",
     "iopub.status.idle": "2022-01-17T20:53:41.474425Z",
     "shell.execute_reply": "2022-01-17T20:53:41.473806Z",
     "shell.execute_reply.started": "2022-01-17T20:53:41.448546Z"
    }
   },
   "outputs": [],
   "source": [
    "import pandas as pd"
   ]
  },
  {
   "cell_type": "code",
   "execution_count": 2,
   "metadata": {
    "execution": {
     "iopub.execute_input": "2022-01-17T20:54:29.556303Z",
     "iopub.status.busy": "2022-01-17T20:54:29.555488Z",
     "iopub.status.idle": "2022-01-17T20:54:37.095939Z",
     "shell.execute_reply": "2022-01-17T20:54:37.095218Z",
     "shell.execute_reply.started": "2022-01-17T20:54:29.556256Z"
    }
   },
   "outputs": [],
   "source": [
    "train_df = pd.read_csv('../input/ro-fa-clean-translate/train_df.csv')\n",
    "test_df = pd.read_csv('../input/ro-fa-clean-translate/test_df.csv')\n",
    "train_df['ro'] = train_df.ro.astype(str).apply(lambda x: x.replace('</i>', ''))\n",
    "test_df['ro'] = test_df.ro.astype(str).apply(lambda x: x.replace('</i>', ''))\n",
    "train_df['fa'] = train_df.fa.astype(str).apply(lambda x: x.replace('</i>', ''))\n",
    "test_df['fa'] = test_df.fa.astype(str).apply(lambda x: x.replace('</i>', ''))\n",
    "\n",
    "from sklearn.model_selection import train_test_split\n",
    "train_df, val_df = train_test_split(train_df, shuffle=True, test_size=len(train_df)//100, random_state=42)\n",
    "\n",
    "train_df = train_df.reset_index(drop=True)\n",
    "val_df = val_df.reset_index(drop=True)\n",
    "\n",
    "import datasets\n",
    "from datasets import Dataset, dataset_dict\n",
    "\n",
    "train_dataset = Dataset.from_pandas(train_df)\n",
    "val_dataset = Dataset.from_pandas(val_df)\n",
    "test_dataset = Dataset.from_pandas(test_df)\n",
    "\n",
    "raw_datasets = dataset_dict.DatasetDict({'train':train_dataset, 'validation':val_dataset, 'test':test_dataset})"
   ]
  },
  {
   "cell_type": "code",
   "execution_count": 17,
   "metadata": {
    "execution": {
     "iopub.execute_input": "2022-01-17T21:27:29.038681Z",
     "iopub.status.busy": "2022-01-17T21:27:29.038025Z",
     "iopub.status.idle": "2022-01-17T21:27:29.807424Z",
     "shell.execute_reply": "2022-01-17T21:27:29.806646Z",
     "shell.execute_reply.started": "2022-01-17T21:27:29.038644Z"
    }
   },
   "outputs": [],
   "source": [
    "train_df.describe(include='all')  "
   ]
  },
  {
   "cell_type": "code",
   "execution_count": 37,
   "metadata": {
    "execution": {
     "iopub.execute_input": "2022-01-17T22:02:37.271722Z",
     "iopub.status.busy": "2022-01-17T22:02:37.271437Z",
     "iopub.status.idle": "2022-01-17T22:02:37.391972Z",
     "shell.execute_reply": "2022-01-17T22:02:37.391186Z",
     "shell.execute_reply.started": "2022-01-17T22:02:37.271692Z"
    }
   },
   "outputs": [],
   "source": [
    "import seaborn as sns\n",
    "import matplotlib.pyplot as plt\n",
    "import pandas as pd\n",
    "\n",
    "\n",
    "movie_sources = [\n",
    "'encanto',\n",
    "'spiderman',\n",
    "'hachiko',\n",
    "]\n",
    "\n",
    "train_df_movies = train_df[train_df.source.isin(movie_sources)]\n",
    "train_df_others = train_df[~train_df.source.isin(movie_sources)]"
   ]
  },
  {
   "cell_type": "code",
   "execution_count": 38,
   "metadata": {
    "execution": {
     "iopub.execute_input": "2022-01-17T22:02:40.286894Z",
     "iopub.status.busy": "2022-01-17T22:02:40.286624Z",
     "iopub.status.idle": "2022-01-17T22:02:40.474940Z",
     "shell.execute_reply": "2022-01-17T22:02:40.474243Z",
     "shell.execute_reply.started": "2022-01-17T22:02:40.286865Z"
    }
   },
   "outputs": [],
   "source": [
    "train_df_movies['source'].value_counts().plot.bar()\n"
   ]
  },
  {
   "cell_type": "code",
   "execution_count": 39,
   "metadata": {
    "execution": {
     "iopub.execute_input": "2022-01-17T22:02:43.430980Z",
     "iopub.status.busy": "2022-01-17T22:02:43.430391Z",
     "iopub.status.idle": "2022-01-17T22:02:43.634708Z",
     "shell.execute_reply": "2022-01-17T22:02:43.633890Z",
     "shell.execute_reply.started": "2022-01-17T22:02:43.430932Z"
    }
   },
   "outputs": [],
   "source": [
    "train_df_others['source'].value_counts().plot.bar()"
   ]
  },
  {
   "cell_type": "code",
   "execution_count": 41,
   "metadata": {
    "execution": {
     "iopub.execute_input": "2022-01-17T22:04:55.958416Z",
     "iopub.status.busy": "2022-01-17T22:04:55.958166Z",
     "iopub.status.idle": "2022-01-17T22:04:57.431438Z",
     "shell.execute_reply": "2022-01-17T22:04:57.430776Z",
     "shell.execute_reply.started": "2022-01-17T22:04:55.958388Z"
    }
   },
   "outputs": [],
   "source": [
    "import seaborn as sns\n",
    "import matplotlib.pyplot as plt\n",
    "import pandas as pd\n",
    "  \n",
    "  \n",
    "  \n",
    "sns.histplot(x='source', data=train_df, kde=True, hue='source')\n",
    "  \n",
    "plt.show()"
   ]
  }
 ],
 "metadata": {
  "kernelspec": {
   "display_name": "Python 3",
   "language": "python",
   "name": "python3"
  },
  "language_info": {
   "codemirror_mode": {
    "name": "ipython",
    "version": 3
   },
   "file_extension": ".py",
   "mimetype": "text/x-python",
   "name": "python",
   "nbconvert_exporter": "python",
   "pygments_lexer": "ipython3",
   "version": "3.8.8"
  }
 },
 "nbformat": 4,
 "nbformat_minor": 4
}
