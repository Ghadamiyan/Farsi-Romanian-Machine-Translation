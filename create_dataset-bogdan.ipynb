{
 "cells": [
  {
   "cell_type": "code",
   "execution_count": 2,
   "metadata": {},
   "outputs": [],
   "source": [
    "import pandas as pd"
   ]
  },
  {
   "cell_type": "code",
   "execution_count": 3,
   "metadata": {},
   "outputs": [
    {
     "name": "stdout",
     "output_type": "stream",
     "text": [
      "\u001b[34mDataset_MT_nou\u001b[m\u001b[m/     Dataset_MT_nou.zip  extract.ipynb       extract_data.py\n"
     ]
    }
   ],
   "source": [
    "ls"
   ]
  },
  {
   "cell_type": "code",
   "execution_count": 8,
   "metadata": {},
   "outputs": [],
   "source": [
    "with open('Dataset_MT_nou/ro_fa/CCMatrix/CCMatrix_fa.txt') as f:\n",
    "    CCMatrix_fa = f.read()\n",
    "with open('Dataset_MT_nou/ro_fa/CCMatrix/CCMatrix_ro.txt') as f:\n",
    "    CCMatrix_ro = f.read()"
   ]
  },
  {
   "cell_type": "code",
   "execution_count": 9,
   "metadata": {},
   "outputs": [],
   "source": [
    "with open('Dataset_MT_nou/ro_fa/GNOME/GNOME_fa.txt') as f:\n",
    "    GNOME_fa = f.read()\n",
    "with open('Dataset_MT_nou/ro_fa/GNOME/GNOME_ro.txt') as f:\n",
    "    GNOME_ro = f.read()"
   ]
  },
  {
   "cell_type": "code",
   "execution_count": 10,
   "metadata": {},
   "outputs": [],
   "source": [
    "with open('Dataset_MT_nou/ro_fa/Tanzil/Tanzil_fa.txt') as f:\n",
    "    Tanzil_fa = f.read()\n",
    "with open('Dataset_MT_nou/ro_fa/Tanzil/Tanzil_ro.txt') as f:\n",
    "    Tanzil_ro = f.read()"
   ]
  },
  {
   "cell_type": "code",
   "execution_count": 13,
   "metadata": {},
   "outputs": [],
   "source": [
    "with open('Dataset_MT_nou/ro_fa/TED2020v1/TED2020_fa.txt') as f:\n",
    "    TED2020_fa = f.read()\n",
    "with open('Dataset_MT_nou/ro_fa/TED2020v1/TED2020_ro.txt') as f:\n",
    "    TED2020_ro = f.read()"
   ]
  },
  {
   "cell_type": "code",
   "execution_count": 28,
   "metadata": {},
   "outputs": [],
   "source": [
    "datasets = [\"CCMatrix\",\"GNOME\",\"Tanzil\", \"TED2020\"]"
   ]
  },
  {
   "cell_type": "code",
   "execution_count": 14,
   "metadata": {},
   "outputs": [],
   "source": [
    "fa_text = [CCMatrix_fa,GNOME_fa,Tanzil_fa, TED2020_fa]\n",
    "ro_text = [CCMatrix_ro,GNOME_ro,Tanzil_ro, TED2020_ro]\n"
   ]
  },
  {
   "cell_type": "code",
   "execution_count": 15,
   "metadata": {},
   "outputs": [],
   "source": [
    "fa_text_split = [fa.split('\\n') for fa in fa_text]"
   ]
  },
  {
   "cell_type": "code",
   "execution_count": 16,
   "metadata": {},
   "outputs": [],
   "source": [
    "ro_text_split = [ro.split('\\n') for ro in ro_text]"
   ]
  },
  {
   "cell_type": "code",
   "execution_count": 29,
   "metadata": {},
   "outputs": [],
   "source": [
    "sources = [[dataset_name]*len(dataset) for dataset_name, dataset in zip(datasets, fa_text_split)]"
   ]
  },
  {
   "cell_type": "code",
   "execution_count": 125,
   "metadata": {},
   "outputs": [
    {
     "data": {
      "text/plain": [
       "[2694931, 41510, 68601, 244809]"
      ]
     },
     "execution_count": 125,
     "metadata": {},
     "output_type": "execute_result"
    }
   ],
   "source": [
    "[len(d) for d in fa_text_split]"
   ]
  },
  {
   "cell_type": "code",
   "execution_count": 32,
   "metadata": {},
   "outputs": [],
   "source": [
    "sources = [i for j in sources for i in j]"
   ]
  },
  {
   "cell_type": "code",
   "execution_count": 42,
   "metadata": {},
   "outputs": [],
   "source": [
    "ro_text_split_flatten = [i for j in ro_text_split for i in j]\n",
    "fa_text_split_flatten = [i for j in fa_text_split for i in j]"
   ]
  },
  {
   "cell_type": "code",
   "execution_count": 43,
   "metadata": {},
   "outputs": [],
   "source": [
    "df = pd.DataFrame(zip(ro_text_split_flatten, fa_text_split_flatten, sources), columns=['ro','fa','source'])"
   ]
  },
  {
   "cell_type": "code",
   "execution_count": 80,
   "metadata": {},
   "outputs": [
    {
     "data": {
      "text/html": [
       "<div>\n",
       "<style scoped>\n",
       "    .dataframe tbody tr th:only-of-type {\n",
       "        vertical-align: middle;\n",
       "    }\n",
       "\n",
       "    .dataframe tbody tr th {\n",
       "        vertical-align: top;\n",
       "    }\n",
       "\n",
       "    .dataframe thead th {\n",
       "        text-align: right;\n",
       "    }\n",
       "</style>\n",
       "<table border=\"1\" class=\"dataframe\">\n",
       "  <thead>\n",
       "    <tr style=\"text-align: right;\">\n",
       "      <th></th>\n",
       "      <th>ro</th>\n",
       "      <th>fa</th>\n",
       "      <th>source</th>\n",
       "    </tr>\n",
       "  </thead>\n",
       "  <tbody>\n",
       "    <tr>\n",
       "      <th>0</th>\n",
       "      <td>Aceasta este viata pe care o doresc! \", Atunci...</td>\n",
       "      <td>این زندگی است که من می خواهم! »سپس گام بعدی سا...</td>\n",
       "      <td>CCMatrix</td>\n",
       "    </tr>\n",
       "    <tr>\n",
       "      <th>1</th>\n",
       "      <td>Irmosul: Pe Dumnezeu Cuvântul cel din Dumnezeu...</td>\n",
       "      <td>اصلاً ابلیس یک-موجود- مکّاری است؛ به خدا قسم!</td>\n",
       "      <td>CCMatrix</td>\n",
       "    </tr>\n",
       "    <tr>\n",
       "      <th>2</th>\n",
       "      <td>Fresno Pacific University - este posibil să se...</td>\n",
       "      <td>Fresno Pacific University - ممکن است در اینجا ...</td>\n",
       "      <td>CCMatrix</td>\n",
       "    </tr>\n",
       "    <tr>\n",
       "      <th>3</th>\n",
       "      <td>De ce vă amestecaţi într-o plăcere care.</td>\n",
       "      <td>۱ ۱ Im(</td>\n",
       "      <td>CCMatrix</td>\n",
       "    </tr>\n",
       "    <tr>\n",
       "      <th>4</th>\n",
       "      <td>De ce vă amestecaţi într-o plăcere care.</td>\n",
       "      <td>شرح حکایت 1 (</td>\n",
       "      <td>CCMatrix</td>\n",
       "    </tr>\n",
       "    <tr>\n",
       "      <th>...</th>\n",
       "      <td>...</td>\n",
       "      <td>...</td>\n",
       "      <td>...</td>\n",
       "    </tr>\n",
       "    <tr>\n",
       "      <th>3049846</th>\n",
       "      <td>Dar întrebarea rămâne: ești pregătit pentru ce...</td>\n",
       "      <td>اما این سوال همچنان باقی است: آیا برای چیزی که...</td>\n",
       "      <td>TED2020</td>\n",
       "    </tr>\n",
       "    <tr>\n",
       "      <th>3049847</th>\n",
       "      <td>Sper că ești, pentru că noi venim oricum.</td>\n",
       "      <td>امیدوارم که باشید، زیرا ما بی‌پروا می‌آییم.</td>\n",
       "      <td>TED2020</td>\n",
       "    </tr>\n",
       "    <tr>\n",
       "      <th>3049848</th>\n",
       "      <td>(Aplauze)</td>\n",
       "      <td>(تشویق)</td>\n",
       "      <td>TED2020</td>\n",
       "    </tr>\n",
       "    <tr>\n",
       "      <th>3049849</th>\n",
       "      <td></td>\n",
       "      <td></td>\n",
       "      <td>TED2020</td>\n",
       "    </tr>\n",
       "    <tr>\n",
       "      <th>3049850</th>\n",
       "      <td></td>\n",
       "      <td></td>\n",
       "      <td>TED2020</td>\n",
       "    </tr>\n",
       "  </tbody>\n",
       "</table>\n",
       "<p>3049851 rows × 3 columns</p>\n",
       "</div>"
      ],
      "text/plain": [
       "                                                        ro  \\\n",
       "0        Aceasta este viata pe care o doresc! \", Atunci...   \n",
       "1        Irmosul: Pe Dumnezeu Cuvântul cel din Dumnezeu...   \n",
       "2        Fresno Pacific University - este posibil să se...   \n",
       "3                 De ce vă amestecaţi într-o plăcere care.   \n",
       "4                 De ce vă amestecaţi într-o plăcere care.   \n",
       "...                                                    ...   \n",
       "3049846  Dar întrebarea rămâne: ești pregătit pentru ce...   \n",
       "3049847         Sper că ești, pentru că noi venim oricum.    \n",
       "3049848                                         (Aplauze)    \n",
       "3049849                                                      \n",
       "3049850                                                      \n",
       "\n",
       "                                                        fa    source  \n",
       "0        این زندگی است که من می خواهم! »سپس گام بعدی سا...  CCMatrix  \n",
       "1            اصلاً ابلیس یک-موجود- مکّاری است؛ به خدا قسم!  CCMatrix  \n",
       "2        Fresno Pacific University - ممکن است در اینجا ...  CCMatrix  \n",
       "3                                                  ۱ ۱ Im(  CCMatrix  \n",
       "4                                            شرح حکایت 1 (  CCMatrix  \n",
       "...                                                    ...       ...  \n",
       "3049846  اما این سوال همچنان باقی است: آیا برای چیزی که...   TED2020  \n",
       "3049847       امیدوارم که باشید، زیرا ما بی‌پروا می‌آییم.    TED2020  \n",
       "3049848                                           (تشویق)    TED2020  \n",
       "3049849                                                      TED2020  \n",
       "3049850                                                      TED2020  \n",
       "\n",
       "[3049851 rows x 3 columns]"
      ]
     },
     "execution_count": 80,
     "metadata": {},
     "output_type": "execute_result"
    }
   ],
   "source": [
    "df"
   ]
  },
  {
   "cell_type": "code",
   "execution_count": 205,
   "metadata": {},
   "outputs": [],
   "source": [
    "clean_df = df[~ ( (df.ro.apply(len)==0) | (df.fa.apply(len)==0) ) ]"
   ]
  },
  {
   "cell_type": "code",
   "execution_count": 82,
   "metadata": {},
   "outputs": [],
   "source": [
    "from sklearn.model_selection import train_test_split"
   ]
  },
  {
   "cell_type": "code",
   "execution_count": 83,
   "metadata": {},
   "outputs": [],
   "source": [
    "train_set, test_set = train_test_split(clean_df, shuffle=True, test_size=100000, random_state=42)"
   ]
  },
  {
   "cell_type": "code",
   "execution_count": 207,
   "metadata": {},
   "outputs": [],
   "source": [
    "non_matrix_df = clean_df[~ (clean_df.source == 'CCMatrix')]"
   ]
  },
  {
   "cell_type": "code",
   "execution_count": 208,
   "metadata": {},
   "outputs": [],
   "source": [
    "matrix_df = clean_df[(clean_df.source == 'CCMatrix')]"
   ]
  },
  {
   "cell_type": "code",
   "execution_count": 209,
   "metadata": {},
   "outputs": [],
   "source": [
    "movies_df = pd.read_pickle('movies_df.zip')"
   ]
  },
  {
   "cell_type": "code",
   "execution_count": 210,
   "metadata": {},
   "outputs": [
    {
     "data": {
      "text/plain": [
       "352529"
      ]
     },
     "execution_count": 210,
     "metadata": {},
     "output_type": "execute_result"
    }
   ],
   "source": [
    "len(non_matrix_df)"
   ]
  },
  {
   "cell_type": "code",
   "execution_count": 211,
   "metadata": {},
   "outputs": [
    {
     "data": {
      "text/plain": [
       "3179"
      ]
     },
     "execution_count": 211,
     "metadata": {},
     "output_type": "execute_result"
    }
   ],
   "source": [
    "len(movies_df)"
   ]
  },
  {
   "cell_type": "code",
   "execution_count": 212,
   "metadata": {},
   "outputs": [],
   "source": [
    "nm_train_set, nm_test_set = train_test_split(non_matrix_df, shuffle=True, test_size=3000, random_state=42)"
   ]
  },
  {
   "cell_type": "code",
   "execution_count": 213,
   "metadata": {},
   "outputs": [],
   "source": [
    "movies_train_set, movies_test_set = train_test_split(movies_df, shuffle=True, test_size=300, random_state=42)"
   ]
  },
  {
   "cell_type": "code",
   "execution_count": 214,
   "metadata": {},
   "outputs": [],
   "source": [
    "train_set = pd.concat([nm_train_set, movies_train_set]).reset_index(drop=True)"
   ]
  },
  {
   "cell_type": "code",
   "execution_count": 215,
   "metadata": {},
   "outputs": [],
   "source": [
    "test_set = pd.concat([nm_test_set, movies_test_set]).reset_index(drop=True)"
   ]
  },
  {
   "cell_type": "code",
   "execution_count": 216,
   "metadata": {},
   "outputs": [],
   "source": [
    "matrix_train_set, matrix_test_set = train_test_split(matrix_df, shuffle=True, test_size=200000, random_state=42)"
   ]
  },
  {
   "cell_type": "code",
   "execution_count": 217,
   "metadata": {},
   "outputs": [
    {
     "data": {
      "text/html": [
       "<div>\n",
       "<style scoped>\n",
       "    .dataframe tbody tr th:only-of-type {\n",
       "        vertical-align: middle;\n",
       "    }\n",
       "\n",
       "    .dataframe tbody tr th {\n",
       "        vertical-align: top;\n",
       "    }\n",
       "\n",
       "    .dataframe thead th {\n",
       "        text-align: right;\n",
       "    }\n",
       "</style>\n",
       "<table border=\"1\" class=\"dataframe\">\n",
       "  <thead>\n",
       "    <tr style=\"text-align: right;\">\n",
       "      <th></th>\n",
       "      <th>ro</th>\n",
       "      <th>fa</th>\n",
       "      <th>source</th>\n",
       "    </tr>\n",
       "  </thead>\n",
       "  <tbody>\n",
       "    <tr>\n",
       "      <th>2450459</th>\n",
       "      <td>Ne-au masat întreg corpul, pe îndelete timp de...</td>\n",
       "      <td>تا دو ساعت کل بدنم ضعف کرده بود.</td>\n",
       "      <td>CCMatrix</td>\n",
       "    </tr>\n",
       "    <tr>\n",
       "      <th>463619</th>\n",
       "      <td>Noi oferim DPhil în economie program în limba ...</td>\n",
       "      <td>ما ارائه می دهیم DPhil در اقتصاد برنامه به زبا...</td>\n",
       "      <td>CCMatrix</td>\n",
       "    </tr>\n",
       "    <tr>\n",
       "      <th>842500</th>\n",
       "      <td>Bulele pe care le veți vedea numai pe apă.</td>\n",
       "      <td>خودروهایی که تنها آن طرف آب می‌بینید</td>\n",
       "      <td>CCMatrix</td>\n",
       "    </tr>\n",
       "    <tr>\n",
       "      <th>2120978</th>\n",
       "      <td>Oameni bogați vor înghețarea creierului pentru...</td>\n",
       "      <td>پرشین خودرو: بسیاری از ثروتمندان آماده‌اند با ...</td>\n",
       "      <td>CCMatrix</td>\n",
       "    </tr>\n",
       "    <tr>\n",
       "      <th>2668658</th>\n",
       "      <td>– De fapt, ţi-am spus că în faţa Lui nu există...</td>\n",
       "      <td>بهش گفتم در عالم، مرگ نداریم.</td>\n",
       "      <td>CCMatrix</td>\n",
       "    </tr>\n",
       "    <tr>\n",
       "      <th>...</th>\n",
       "      <td>...</td>\n",
       "      <td>...</td>\n",
       "      <td>...</td>\n",
       "    </tr>\n",
       "    <tr>\n",
       "      <th>110268</th>\n",
       "      <td>Pregătirea consilieri școlari să fie agenți Ju...</td>\n",
       "      <td>آماده سازی مشاوران مدرسه به عدالت اجتماعی عوام...</td>\n",
       "      <td>CCMatrix</td>\n",
       "    </tr>\n",
       "    <tr>\n",
       "      <th>1692743</th>\n",
       "      <td>Daca nu raspund va sun eu.</td>\n",
       "      <td>اگر جواب نگرفتم آنجا رو هم تماس میگیرم</td>\n",
       "      <td>CCMatrix</td>\n",
       "    </tr>\n",
       "    <tr>\n",
       "      <th>2356330</th>\n",
       "      <td>c) Consecinţa e sigură sau nesigură?</td>\n",
       "      <td>1.آیا محیط تصمیم گیری مطمئن است یا نامطمئن؟</td>\n",
       "      <td>CCMatrix</td>\n",
       "    </tr>\n",
       "    <tr>\n",
       "      <th>2229084</th>\n",
       "      <td>Mai multe articole despre: Fii tu fata</td>\n",
       "      <td>معرفی کتاب: خودت باش دختر</td>\n",
       "      <td>CCMatrix</td>\n",
       "    </tr>\n",
       "    <tr>\n",
       "      <th>2219110</th>\n",
       "      <td>Veți vedea în cele ce urmează niște poze adora...</td>\n",
       "      <td>در ادامه با چند تصویر زیبا از حیوانات آشنا خوا...</td>\n",
       "      <td>CCMatrix</td>\n",
       "    </tr>\n",
       "  </tbody>\n",
       "</table>\n",
       "<p>2494930 rows × 3 columns</p>\n",
       "</div>"
      ],
      "text/plain": [
       "                                                        ro  \\\n",
       "2450459  Ne-au masat întreg corpul, pe îndelete timp de...   \n",
       "463619   Noi oferim DPhil în economie program în limba ...   \n",
       "842500          Bulele pe care le veți vedea numai pe apă.   \n",
       "2120978  Oameni bogați vor înghețarea creierului pentru...   \n",
       "2668658  – De fapt, ţi-am spus că în faţa Lui nu există...   \n",
       "...                                                    ...   \n",
       "110268   Pregătirea consilieri școlari să fie agenți Ju...   \n",
       "1692743                         Daca nu raspund va sun eu.   \n",
       "2356330               c) Consecinţa e sigură sau nesigură?   \n",
       "2229084             Mai multe articole despre: Fii tu fata   \n",
       "2219110  Veți vedea în cele ce urmează niște poze adora...   \n",
       "\n",
       "                                                        fa    source  \n",
       "2450459                   تا دو ساعت کل بدنم ضعف کرده بود.  CCMatrix  \n",
       "463619   ما ارائه می دهیم DPhil در اقتصاد برنامه به زبا...  CCMatrix  \n",
       "842500                خودروهایی که تنها آن طرف آب می‌بینید  CCMatrix  \n",
       "2120978  پرشین خودرو: بسیاری از ثروتمندان آماده‌اند با ...  CCMatrix  \n",
       "2668658                      بهش گفتم در عالم، مرگ نداریم.  CCMatrix  \n",
       "...                                                    ...       ...  \n",
       "110268   آماده سازی مشاوران مدرسه به عدالت اجتماعی عوام...  CCMatrix  \n",
       "1692743             اگر جواب نگرفتم آنجا رو هم تماس میگیرم  CCMatrix  \n",
       "2356330        1.آیا محیط تصمیم گیری مطمئن است یا نامطمئن؟  CCMatrix  \n",
       "2229084                          معرفی کتاب: خودت باش دختر  CCMatrix  \n",
       "2219110  در ادامه با چند تصویر زیبا از حیوانات آشنا خوا...  CCMatrix  \n",
       "\n",
       "[2494930 rows x 3 columns]"
      ]
     },
     "execution_count": 217,
     "metadata": {},
     "output_type": "execute_result"
    }
   ],
   "source": [
    "matrix_train_set"
   ]
  },
  {
   "cell_type": "markdown",
   "metadata": {},
   "source": []
  },
  {
   "cell_type": "code",
   "execution_count": 179,
   "metadata": {},
   "outputs": [],
   "source": [
    "matrix_train_set.to_pickle('matrix_train_df.gz')"
   ]
  },
  {
   "cell_type": "code",
   "execution_count": 178,
   "metadata": {},
   "outputs": [],
   "source": [
    "matrix_test_set.to_pickle('matrix_test_df.gz')"
   ]
  },
  {
   "cell_type": "code",
   "execution_count": 221,
   "metadata": {},
   "outputs": [
    {
     "name": "stdout",
     "output_type": "stream",
     "text": [
      "352408\n",
      "3300\n"
     ]
    }
   ],
   "source": [
    "print(len(train_set))\n",
    "print(len(test_set))"
   ]
  },
  {
   "cell_type": "code",
   "execution_count": 219,
   "metadata": {},
   "outputs": [],
   "source": [
    "test_set.to_csv('test_df.csv')"
   ]
  },
  {
   "cell_type": "code",
   "execution_count": 220,
   "metadata": {},
   "outputs": [],
   "source": [
    "train_set.to_csv('train_df.csv')"
   ]
  }
 ],
 "metadata": {
  "interpreter": {
   "hash": "d54b02883dc84e12d553b7286154d349ed4f9f2e99891e5730b7fe192c5c2a90"
  },
  "kernelspec": {
   "display_name": "Python 3.9.5 64-bit ('torch': pyenv)",
   "language": "python",
   "name": "python3"
  },
  "language_info": {
   "codemirror_mode": {
    "name": "ipython",
    "version": 3
   },
   "file_extension": ".py",
   "mimetype": "text/x-python",
   "name": "python",
   "nbconvert_exporter": "python",
   "pygments_lexer": "ipython3",
   "version": "3.9.5"
  },
  "orig_nbformat": 4
 },
 "nbformat": 4,
 "nbformat_minor": 2
}
